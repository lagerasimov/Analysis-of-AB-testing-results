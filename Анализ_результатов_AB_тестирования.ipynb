{
  "nbformat": 4,
  "nbformat_minor": 0,
  "metadata": {
    "colab": {
      "provenance": [],
      "authorship_tag": "ABX9TyOrGfDBKXqppQVe4KYjTugg",
      "include_colab_link": true
    },
    "kernelspec": {
      "name": "python3",
      "display_name": "Python 3"
    },
    "language_info": {
      "name": "python"
    }
  },
  "cells": [
    {
      "cell_type": "markdown",
      "metadata": {
        "id": "view-in-github",
        "colab_type": "text"
      },
      "source": [
        "<a href=\"https://colab.research.google.com/github/lagerasimov/Analysis-of-the-effectiveness-of-advertising-campaigns-using-AB-testing/blob/main/%D0%90%D0%BD%D0%B0%D0%BB%D0%B8%D0%B7_%D1%80%D0%B5%D0%B7%D1%83%D0%BB%D1%8C%D1%82%D0%B0%D1%82%D0%BE%D0%B2_AB_%D1%82%D0%B5%D1%81%D1%82%D0%B8%D1%80%D0%BE%D0%B2%D0%B0%D0%BD%D0%B8%D1%8F.ipynb\" target=\"_parent\"><img src=\"https://colab.research.google.com/assets/colab-badge.svg\" alt=\"Open In Colab\"/></a>"
      ]
    },
    {
      "cell_type": "markdown",
      "source": [
        "В ходе данного проекта произведён анализ результатов A/B-теста.\n",
        "\n",
        "Датасет с данными для исследования [взят с сайта \"Kaggle\"](https://www.kaggle.com/datasets/faviovaz/marketing-ab-testing/data). В таблице содержатся следующие столбцы:\n",
        "\n",
        "*   Index — индекс строки\n",
        "*   user_id — уникальный идентификатор пользователя\n",
        "*   test_group — группа в тесте: ad — пользователь видел рекламу, psa — пользователь видел лишь публичное объявление (социальную рекламу)\n",
        "*   converted — факт покупки: True — товар куплен, False — покупки не было\n",
        "*   total_ads — общее количество просмотренных реклам/публичных объявлений\n",
        "*   most_ads_day — день с максимальным количеством показов пользователю\n",
        "*   most_ads_hour — час дня с максимальным количеством показов"
      ],
      "metadata": {
        "id": "KYfcqv1BDa9A"
      }
    },
    {
      "cell_type": "markdown",
      "source": [
        "##Импортируем необходимые библиотеки"
      ],
      "metadata": {
        "id": "GXDYp7H0kld8"
      }
    },
    {
      "cell_type": "code",
      "execution_count": null,
      "metadata": {
        "id": "m0Ei0yqAkMsY"
      },
      "outputs": [],
      "source": [
        "import pandas as pd\n",
        "import matplotlib.pyplot as plt\n",
        "import numpy as np\n",
        "from scipy.stats import ttest_ind, f_oneway\n",
        "from statsmodels.stats.proportion import proportions_ztest"
      ]
    },
    {
      "cell_type": "markdown",
      "source": [
        "##Загружаем и обрабатываем данные"
      ],
      "metadata": {
        "id": "B5wdKv4m-tRb"
      }
    },
    {
      "cell_type": "code",
      "source": [
        "from google.colab import drive\n",
        "drive.mount('/content/drive')"
      ],
      "metadata": {
        "colab": {
          "base_uri": "https://localhost:8080/"
        },
        "id": "2vMbXFLakt4m",
        "outputId": "adac0cdd-ffeb-4325-c9c5-26b849b17b23"
      },
      "execution_count": null,
      "outputs": [
        {
          "output_type": "stream",
          "name": "stdout",
          "text": [
            "Mounted at /content/drive\n"
          ]
        }
      ]
    },
    {
      "cell_type": "code",
      "source": [
        "path = 'https://drive.google.com/uc?export=download&id=1VQPWBm-AYu4Fe7r3QqF0qvc36wBm8al3'\n",
        "df = pd.read_csv(path)"
      ],
      "metadata": {
        "id": "T2sE0A82ms4r"
      },
      "execution_count": null,
      "outputs": []
    },
    {
      "cell_type": "markdown",
      "source": [
        "Посмотрим на структуру таблицы:"
      ],
      "metadata": {
        "id": "njjVoZ3a_Qn8"
      }
    },
    {
      "cell_type": "code",
      "source": [
        "df.head()"
      ],
      "metadata": {
        "colab": {
          "base_uri": "https://localhost:8080/",
          "height": 261
        },
        "id": "toTKtw1m-koD",
        "outputId": "1bf57d4b-0edb-4ca3-b4e4-04ffaf42711e"
      },
      "execution_count": null,
      "outputs": [
        {
          "output_type": "execute_result",
          "data": {
            "text/plain": [
              "   Unnamed: 0  user id test group  converted  total ads most ads day  \\\n",
              "0           0  1069124         ad      False        130       Monday   \n",
              "1           1  1119715         ad      False         93      Tuesday   \n",
              "2           2  1144181         ad      False         21      Tuesday   \n",
              "3           3  1435133         ad      False        355      Tuesday   \n",
              "4           4  1015700         ad      False        276       Friday   \n",
              "\n",
              "   most ads hour  \n",
              "0             20  \n",
              "1             22  \n",
              "2             18  \n",
              "3             10  \n",
              "4             14  "
            ],
            "text/html": [
              "\n",
              "  <div id=\"df-f67fb6be-9796-4aab-839e-4b9364a1088e\" class=\"colab-df-container\">\n",
              "    <div>\n",
              "<style scoped>\n",
              "    .dataframe tbody tr th:only-of-type {\n",
              "        vertical-align: middle;\n",
              "    }\n",
              "\n",
              "    .dataframe tbody tr th {\n",
              "        vertical-align: top;\n",
              "    }\n",
              "\n",
              "    .dataframe thead th {\n",
              "        text-align: right;\n",
              "    }\n",
              "</style>\n",
              "<table border=\"1\" class=\"dataframe\">\n",
              "  <thead>\n",
              "    <tr style=\"text-align: right;\">\n",
              "      <th></th>\n",
              "      <th>Unnamed: 0</th>\n",
              "      <th>user id</th>\n",
              "      <th>test group</th>\n",
              "      <th>converted</th>\n",
              "      <th>total ads</th>\n",
              "      <th>most ads day</th>\n",
              "      <th>most ads hour</th>\n",
              "    </tr>\n",
              "  </thead>\n",
              "  <tbody>\n",
              "    <tr>\n",
              "      <th>0</th>\n",
              "      <td>0</td>\n",
              "      <td>1069124</td>\n",
              "      <td>ad</td>\n",
              "      <td>False</td>\n",
              "      <td>130</td>\n",
              "      <td>Monday</td>\n",
              "      <td>20</td>\n",
              "    </tr>\n",
              "    <tr>\n",
              "      <th>1</th>\n",
              "      <td>1</td>\n",
              "      <td>1119715</td>\n",
              "      <td>ad</td>\n",
              "      <td>False</td>\n",
              "      <td>93</td>\n",
              "      <td>Tuesday</td>\n",
              "      <td>22</td>\n",
              "    </tr>\n",
              "    <tr>\n",
              "      <th>2</th>\n",
              "      <td>2</td>\n",
              "      <td>1144181</td>\n",
              "      <td>ad</td>\n",
              "      <td>False</td>\n",
              "      <td>21</td>\n",
              "      <td>Tuesday</td>\n",
              "      <td>18</td>\n",
              "    </tr>\n",
              "    <tr>\n",
              "      <th>3</th>\n",
              "      <td>3</td>\n",
              "      <td>1435133</td>\n",
              "      <td>ad</td>\n",
              "      <td>False</td>\n",
              "      <td>355</td>\n",
              "      <td>Tuesday</td>\n",
              "      <td>10</td>\n",
              "    </tr>\n",
              "    <tr>\n",
              "      <th>4</th>\n",
              "      <td>4</td>\n",
              "      <td>1015700</td>\n",
              "      <td>ad</td>\n",
              "      <td>False</td>\n",
              "      <td>276</td>\n",
              "      <td>Friday</td>\n",
              "      <td>14</td>\n",
              "    </tr>\n",
              "  </tbody>\n",
              "</table>\n",
              "</div>\n",
              "    <div class=\"colab-df-buttons\">\n",
              "\n",
              "  <div class=\"colab-df-container\">\n",
              "    <button class=\"colab-df-convert\" onclick=\"convertToInteractive('df-f67fb6be-9796-4aab-839e-4b9364a1088e')\"\n",
              "            title=\"Convert this dataframe to an interactive table.\"\n",
              "            style=\"display:none;\">\n",
              "\n",
              "  <svg xmlns=\"http://www.w3.org/2000/svg\" height=\"24px\" viewBox=\"0 -960 960 960\">\n",
              "    <path d=\"M120-120v-720h720v720H120Zm60-500h600v-160H180v160Zm220 220h160v-160H400v160Zm0 220h160v-160H400v160ZM180-400h160v-160H180v160Zm440 0h160v-160H620v160ZM180-180h160v-160H180v160Zm440 0h160v-160H620v160Z\"/>\n",
              "  </svg>\n",
              "    </button>\n",
              "\n",
              "  <style>\n",
              "    .colab-df-container {\n",
              "      display:flex;\n",
              "      gap: 12px;\n",
              "    }\n",
              "\n",
              "    .colab-df-convert {\n",
              "      background-color: #E8F0FE;\n",
              "      border: none;\n",
              "      border-radius: 50%;\n",
              "      cursor: pointer;\n",
              "      display: none;\n",
              "      fill: #1967D2;\n",
              "      height: 32px;\n",
              "      padding: 0 0 0 0;\n",
              "      width: 32px;\n",
              "    }\n",
              "\n",
              "    .colab-df-convert:hover {\n",
              "      background-color: #E2EBFA;\n",
              "      box-shadow: 0px 1px 2px rgba(60, 64, 67, 0.3), 0px 1px 3px 1px rgba(60, 64, 67, 0.15);\n",
              "      fill: #174EA6;\n",
              "    }\n",
              "\n",
              "    .colab-df-buttons div {\n",
              "      margin-bottom: 4px;\n",
              "    }\n",
              "\n",
              "    [theme=dark] .colab-df-convert {\n",
              "      background-color: #3B4455;\n",
              "      fill: #D2E3FC;\n",
              "    }\n",
              "\n",
              "    [theme=dark] .colab-df-convert:hover {\n",
              "      background-color: #434B5C;\n",
              "      box-shadow: 0px 1px 3px 1px rgba(0, 0, 0, 0.15);\n",
              "      filter: drop-shadow(0px 1px 2px rgba(0, 0, 0, 0.3));\n",
              "      fill: #FFFFFF;\n",
              "    }\n",
              "  </style>\n",
              "\n",
              "    <script>\n",
              "      const buttonEl =\n",
              "        document.querySelector('#df-f67fb6be-9796-4aab-839e-4b9364a1088e button.colab-df-convert');\n",
              "      buttonEl.style.display =\n",
              "        google.colab.kernel.accessAllowed ? 'block' : 'none';\n",
              "\n",
              "      async function convertToInteractive(key) {\n",
              "        const element = document.querySelector('#df-f67fb6be-9796-4aab-839e-4b9364a1088e');\n",
              "        const dataTable =\n",
              "          await google.colab.kernel.invokeFunction('convertToInteractive',\n",
              "                                                    [key], {});\n",
              "        if (!dataTable) return;\n",
              "\n",
              "        const docLinkHtml = 'Like what you see? Visit the ' +\n",
              "          '<a target=\"_blank\" href=https://colab.research.google.com/notebooks/data_table.ipynb>data table notebook</a>'\n",
              "          + ' to learn more about interactive tables.';\n",
              "        element.innerHTML = '';\n",
              "        dataTable['output_type'] = 'display_data';\n",
              "        await google.colab.output.renderOutput(dataTable, element);\n",
              "        const docLink = document.createElement('div');\n",
              "        docLink.innerHTML = docLinkHtml;\n",
              "        element.appendChild(docLink);\n",
              "      }\n",
              "    </script>\n",
              "  </div>\n",
              "\n",
              "\n",
              "    <div id=\"df-6cca4353-8457-4aed-be98-b3c53d35a173\">\n",
              "      <button class=\"colab-df-quickchart\" onclick=\"quickchart('df-6cca4353-8457-4aed-be98-b3c53d35a173')\"\n",
              "                title=\"Suggest charts\"\n",
              "                style=\"display:none;\">\n",
              "\n",
              "<svg xmlns=\"http://www.w3.org/2000/svg\" height=\"24px\"viewBox=\"0 0 24 24\"\n",
              "     width=\"24px\">\n",
              "    <g>\n",
              "        <path d=\"M19 3H5c-1.1 0-2 .9-2 2v14c0 1.1.9 2 2 2h14c1.1 0 2-.9 2-2V5c0-1.1-.9-2-2-2zM9 17H7v-7h2v7zm4 0h-2V7h2v10zm4 0h-2v-4h2v4z\"/>\n",
              "    </g>\n",
              "</svg>\n",
              "      </button>\n",
              "\n",
              "<style>\n",
              "  .colab-df-quickchart {\n",
              "      --bg-color: #E8F0FE;\n",
              "      --fill-color: #1967D2;\n",
              "      --hover-bg-color: #E2EBFA;\n",
              "      --hover-fill-color: #174EA6;\n",
              "      --disabled-fill-color: #AAA;\n",
              "      --disabled-bg-color: #DDD;\n",
              "  }\n",
              "\n",
              "  [theme=dark] .colab-df-quickchart {\n",
              "      --bg-color: #3B4455;\n",
              "      --fill-color: #D2E3FC;\n",
              "      --hover-bg-color: #434B5C;\n",
              "      --hover-fill-color: #FFFFFF;\n",
              "      --disabled-bg-color: #3B4455;\n",
              "      --disabled-fill-color: #666;\n",
              "  }\n",
              "\n",
              "  .colab-df-quickchart {\n",
              "    background-color: var(--bg-color);\n",
              "    border: none;\n",
              "    border-radius: 50%;\n",
              "    cursor: pointer;\n",
              "    display: none;\n",
              "    fill: var(--fill-color);\n",
              "    height: 32px;\n",
              "    padding: 0;\n",
              "    width: 32px;\n",
              "  }\n",
              "\n",
              "  .colab-df-quickchart:hover {\n",
              "    background-color: var(--hover-bg-color);\n",
              "    box-shadow: 0 1px 2px rgba(60, 64, 67, 0.3), 0 1px 3px 1px rgba(60, 64, 67, 0.15);\n",
              "    fill: var(--button-hover-fill-color);\n",
              "  }\n",
              "\n",
              "  .colab-df-quickchart-complete:disabled,\n",
              "  .colab-df-quickchart-complete:disabled:hover {\n",
              "    background-color: var(--disabled-bg-color);\n",
              "    fill: var(--disabled-fill-color);\n",
              "    box-shadow: none;\n",
              "  }\n",
              "\n",
              "  .colab-df-spinner {\n",
              "    border: 2px solid var(--fill-color);\n",
              "    border-color: transparent;\n",
              "    border-bottom-color: var(--fill-color);\n",
              "    animation:\n",
              "      spin 1s steps(1) infinite;\n",
              "  }\n",
              "\n",
              "  @keyframes spin {\n",
              "    0% {\n",
              "      border-color: transparent;\n",
              "      border-bottom-color: var(--fill-color);\n",
              "      border-left-color: var(--fill-color);\n",
              "    }\n",
              "    20% {\n",
              "      border-color: transparent;\n",
              "      border-left-color: var(--fill-color);\n",
              "      border-top-color: var(--fill-color);\n",
              "    }\n",
              "    30% {\n",
              "      border-color: transparent;\n",
              "      border-left-color: var(--fill-color);\n",
              "      border-top-color: var(--fill-color);\n",
              "      border-right-color: var(--fill-color);\n",
              "    }\n",
              "    40% {\n",
              "      border-color: transparent;\n",
              "      border-right-color: var(--fill-color);\n",
              "      border-top-color: var(--fill-color);\n",
              "    }\n",
              "    60% {\n",
              "      border-color: transparent;\n",
              "      border-right-color: var(--fill-color);\n",
              "    }\n",
              "    80% {\n",
              "      border-color: transparent;\n",
              "      border-right-color: var(--fill-color);\n",
              "      border-bottom-color: var(--fill-color);\n",
              "    }\n",
              "    90% {\n",
              "      border-color: transparent;\n",
              "      border-bottom-color: var(--fill-color);\n",
              "    }\n",
              "  }\n",
              "</style>\n",
              "\n",
              "      <script>\n",
              "        async function quickchart(key) {\n",
              "          const quickchartButtonEl =\n",
              "            document.querySelector('#' + key + ' button');\n",
              "          quickchartButtonEl.disabled = true;  // To prevent multiple clicks.\n",
              "          quickchartButtonEl.classList.add('colab-df-spinner');\n",
              "          try {\n",
              "            const charts = await google.colab.kernel.invokeFunction(\n",
              "                'suggestCharts', [key], {});\n",
              "          } catch (error) {\n",
              "            console.error('Error during call to suggestCharts:', error);\n",
              "          }\n",
              "          quickchartButtonEl.classList.remove('colab-df-spinner');\n",
              "          quickchartButtonEl.classList.add('colab-df-quickchart-complete');\n",
              "        }\n",
              "        (() => {\n",
              "          let quickchartButtonEl =\n",
              "            document.querySelector('#df-6cca4353-8457-4aed-be98-b3c53d35a173 button');\n",
              "          quickchartButtonEl.style.display =\n",
              "            google.colab.kernel.accessAllowed ? 'block' : 'none';\n",
              "        })();\n",
              "      </script>\n",
              "    </div>\n",
              "    </div>\n",
              "  </div>\n"
            ],
            "application/vnd.google.colaboratory.intrinsic+json": {
              "type": "dataframe",
              "variable_name": "df"
            }
          },
          "metadata": {},
          "execution_count": 5
        }
      ]
    },
    {
      "cell_type": "markdown",
      "source": [
        "Заметим, что индексы в таблице дублируются. Удалим лишнее:"
      ],
      "metadata": {
        "id": "PuN2vG-f_Kgd"
      }
    },
    {
      "cell_type": "code",
      "source": [
        "df.drop(columns = ['Unnamed: 0'], inplace = True)\n",
        "df"
      ],
      "metadata": {
        "colab": {
          "base_uri": "https://localhost:8080/",
          "height": 478
        },
        "id": "T_IzKHuv_WVS",
        "outputId": "1ccd7a27-6388-409d-f1b3-f138da50ca27"
      },
      "execution_count": null,
      "outputs": [
        {
          "output_type": "execute_result",
          "data": {
            "text/plain": [
              "        user id test group  converted  total ads most ads day  most ads hour\n",
              "0       1069124         ad      False        130       Monday             20\n",
              "1       1119715         ad      False         93      Tuesday             22\n",
              "2       1144181         ad      False         21      Tuesday             18\n",
              "3       1435133         ad      False        355      Tuesday             10\n",
              "4       1015700         ad      False        276       Friday             14\n",
              "...         ...        ...        ...        ...          ...            ...\n",
              "588096  1278437         ad      False          1      Tuesday             23\n",
              "588097  1327975         ad      False          1      Tuesday             23\n",
              "588098  1038442         ad      False          3      Tuesday             23\n",
              "588099  1496395         ad      False          1      Tuesday             23\n",
              "588100  1237779         ad      False          1      Tuesday             23\n",
              "\n",
              "[588101 rows x 6 columns]"
            ],
            "text/html": [
              "\n",
              "  <div id=\"df-99560942-bd08-4abd-8e96-a46d42cd7e7d\" class=\"colab-df-container\">\n",
              "    <div>\n",
              "<style scoped>\n",
              "    .dataframe tbody tr th:only-of-type {\n",
              "        vertical-align: middle;\n",
              "    }\n",
              "\n",
              "    .dataframe tbody tr th {\n",
              "        vertical-align: top;\n",
              "    }\n",
              "\n",
              "    .dataframe thead th {\n",
              "        text-align: right;\n",
              "    }\n",
              "</style>\n",
              "<table border=\"1\" class=\"dataframe\">\n",
              "  <thead>\n",
              "    <tr style=\"text-align: right;\">\n",
              "      <th></th>\n",
              "      <th>user id</th>\n",
              "      <th>test group</th>\n",
              "      <th>converted</th>\n",
              "      <th>total ads</th>\n",
              "      <th>most ads day</th>\n",
              "      <th>most ads hour</th>\n",
              "    </tr>\n",
              "  </thead>\n",
              "  <tbody>\n",
              "    <tr>\n",
              "      <th>0</th>\n",
              "      <td>1069124</td>\n",
              "      <td>ad</td>\n",
              "      <td>False</td>\n",
              "      <td>130</td>\n",
              "      <td>Monday</td>\n",
              "      <td>20</td>\n",
              "    </tr>\n",
              "    <tr>\n",
              "      <th>1</th>\n",
              "      <td>1119715</td>\n",
              "      <td>ad</td>\n",
              "      <td>False</td>\n",
              "      <td>93</td>\n",
              "      <td>Tuesday</td>\n",
              "      <td>22</td>\n",
              "    </tr>\n",
              "    <tr>\n",
              "      <th>2</th>\n",
              "      <td>1144181</td>\n",
              "      <td>ad</td>\n",
              "      <td>False</td>\n",
              "      <td>21</td>\n",
              "      <td>Tuesday</td>\n",
              "      <td>18</td>\n",
              "    </tr>\n",
              "    <tr>\n",
              "      <th>3</th>\n",
              "      <td>1435133</td>\n",
              "      <td>ad</td>\n",
              "      <td>False</td>\n",
              "      <td>355</td>\n",
              "      <td>Tuesday</td>\n",
              "      <td>10</td>\n",
              "    </tr>\n",
              "    <tr>\n",
              "      <th>4</th>\n",
              "      <td>1015700</td>\n",
              "      <td>ad</td>\n",
              "      <td>False</td>\n",
              "      <td>276</td>\n",
              "      <td>Friday</td>\n",
              "      <td>14</td>\n",
              "    </tr>\n",
              "    <tr>\n",
              "      <th>...</th>\n",
              "      <td>...</td>\n",
              "      <td>...</td>\n",
              "      <td>...</td>\n",
              "      <td>...</td>\n",
              "      <td>...</td>\n",
              "      <td>...</td>\n",
              "    </tr>\n",
              "    <tr>\n",
              "      <th>588096</th>\n",
              "      <td>1278437</td>\n",
              "      <td>ad</td>\n",
              "      <td>False</td>\n",
              "      <td>1</td>\n",
              "      <td>Tuesday</td>\n",
              "      <td>23</td>\n",
              "    </tr>\n",
              "    <tr>\n",
              "      <th>588097</th>\n",
              "      <td>1327975</td>\n",
              "      <td>ad</td>\n",
              "      <td>False</td>\n",
              "      <td>1</td>\n",
              "      <td>Tuesday</td>\n",
              "      <td>23</td>\n",
              "    </tr>\n",
              "    <tr>\n",
              "      <th>588098</th>\n",
              "      <td>1038442</td>\n",
              "      <td>ad</td>\n",
              "      <td>False</td>\n",
              "      <td>3</td>\n",
              "      <td>Tuesday</td>\n",
              "      <td>23</td>\n",
              "    </tr>\n",
              "    <tr>\n",
              "      <th>588099</th>\n",
              "      <td>1496395</td>\n",
              "      <td>ad</td>\n",
              "      <td>False</td>\n",
              "      <td>1</td>\n",
              "      <td>Tuesday</td>\n",
              "      <td>23</td>\n",
              "    </tr>\n",
              "    <tr>\n",
              "      <th>588100</th>\n",
              "      <td>1237779</td>\n",
              "      <td>ad</td>\n",
              "      <td>False</td>\n",
              "      <td>1</td>\n",
              "      <td>Tuesday</td>\n",
              "      <td>23</td>\n",
              "    </tr>\n",
              "  </tbody>\n",
              "</table>\n",
              "<p>588101 rows × 6 columns</p>\n",
              "</div>\n",
              "    <div class=\"colab-df-buttons\">\n",
              "\n",
              "  <div class=\"colab-df-container\">\n",
              "    <button class=\"colab-df-convert\" onclick=\"convertToInteractive('df-99560942-bd08-4abd-8e96-a46d42cd7e7d')\"\n",
              "            title=\"Convert this dataframe to an interactive table.\"\n",
              "            style=\"display:none;\">\n",
              "\n",
              "  <svg xmlns=\"http://www.w3.org/2000/svg\" height=\"24px\" viewBox=\"0 -960 960 960\">\n",
              "    <path d=\"M120-120v-720h720v720H120Zm60-500h600v-160H180v160Zm220 220h160v-160H400v160Zm0 220h160v-160H400v160ZM180-400h160v-160H180v160Zm440 0h160v-160H620v160ZM180-180h160v-160H180v160Zm440 0h160v-160H620v160Z\"/>\n",
              "  </svg>\n",
              "    </button>\n",
              "\n",
              "  <style>\n",
              "    .colab-df-container {\n",
              "      display:flex;\n",
              "      gap: 12px;\n",
              "    }\n",
              "\n",
              "    .colab-df-convert {\n",
              "      background-color: #E8F0FE;\n",
              "      border: none;\n",
              "      border-radius: 50%;\n",
              "      cursor: pointer;\n",
              "      display: none;\n",
              "      fill: #1967D2;\n",
              "      height: 32px;\n",
              "      padding: 0 0 0 0;\n",
              "      width: 32px;\n",
              "    }\n",
              "\n",
              "    .colab-df-convert:hover {\n",
              "      background-color: #E2EBFA;\n",
              "      box-shadow: 0px 1px 2px rgba(60, 64, 67, 0.3), 0px 1px 3px 1px rgba(60, 64, 67, 0.15);\n",
              "      fill: #174EA6;\n",
              "    }\n",
              "\n",
              "    .colab-df-buttons div {\n",
              "      margin-bottom: 4px;\n",
              "    }\n",
              "\n",
              "    [theme=dark] .colab-df-convert {\n",
              "      background-color: #3B4455;\n",
              "      fill: #D2E3FC;\n",
              "    }\n",
              "\n",
              "    [theme=dark] .colab-df-convert:hover {\n",
              "      background-color: #434B5C;\n",
              "      box-shadow: 0px 1px 3px 1px rgba(0, 0, 0, 0.15);\n",
              "      filter: drop-shadow(0px 1px 2px rgba(0, 0, 0, 0.3));\n",
              "      fill: #FFFFFF;\n",
              "    }\n",
              "  </style>\n",
              "\n",
              "    <script>\n",
              "      const buttonEl =\n",
              "        document.querySelector('#df-99560942-bd08-4abd-8e96-a46d42cd7e7d button.colab-df-convert');\n",
              "      buttonEl.style.display =\n",
              "        google.colab.kernel.accessAllowed ? 'block' : 'none';\n",
              "\n",
              "      async function convertToInteractive(key) {\n",
              "        const element = document.querySelector('#df-99560942-bd08-4abd-8e96-a46d42cd7e7d');\n",
              "        const dataTable =\n",
              "          await google.colab.kernel.invokeFunction('convertToInteractive',\n",
              "                                                    [key], {});\n",
              "        if (!dataTable) return;\n",
              "\n",
              "        const docLinkHtml = 'Like what you see? Visit the ' +\n",
              "          '<a target=\"_blank\" href=https://colab.research.google.com/notebooks/data_table.ipynb>data table notebook</a>'\n",
              "          + ' to learn more about interactive tables.';\n",
              "        element.innerHTML = '';\n",
              "        dataTable['output_type'] = 'display_data';\n",
              "        await google.colab.output.renderOutput(dataTable, element);\n",
              "        const docLink = document.createElement('div');\n",
              "        docLink.innerHTML = docLinkHtml;\n",
              "        element.appendChild(docLink);\n",
              "      }\n",
              "    </script>\n",
              "  </div>\n",
              "\n",
              "\n",
              "    <div id=\"df-62bbc4f9-1884-41fe-a7c0-be90f2772b59\">\n",
              "      <button class=\"colab-df-quickchart\" onclick=\"quickchart('df-62bbc4f9-1884-41fe-a7c0-be90f2772b59')\"\n",
              "                title=\"Suggest charts\"\n",
              "                style=\"display:none;\">\n",
              "\n",
              "<svg xmlns=\"http://www.w3.org/2000/svg\" height=\"24px\"viewBox=\"0 0 24 24\"\n",
              "     width=\"24px\">\n",
              "    <g>\n",
              "        <path d=\"M19 3H5c-1.1 0-2 .9-2 2v14c0 1.1.9 2 2 2h14c1.1 0 2-.9 2-2V5c0-1.1-.9-2-2-2zM9 17H7v-7h2v7zm4 0h-2V7h2v10zm4 0h-2v-4h2v4z\"/>\n",
              "    </g>\n",
              "</svg>\n",
              "      </button>\n",
              "\n",
              "<style>\n",
              "  .colab-df-quickchart {\n",
              "      --bg-color: #E8F0FE;\n",
              "      --fill-color: #1967D2;\n",
              "      --hover-bg-color: #E2EBFA;\n",
              "      --hover-fill-color: #174EA6;\n",
              "      --disabled-fill-color: #AAA;\n",
              "      --disabled-bg-color: #DDD;\n",
              "  }\n",
              "\n",
              "  [theme=dark] .colab-df-quickchart {\n",
              "      --bg-color: #3B4455;\n",
              "      --fill-color: #D2E3FC;\n",
              "      --hover-bg-color: #434B5C;\n",
              "      --hover-fill-color: #FFFFFF;\n",
              "      --disabled-bg-color: #3B4455;\n",
              "      --disabled-fill-color: #666;\n",
              "  }\n",
              "\n",
              "  .colab-df-quickchart {\n",
              "    background-color: var(--bg-color);\n",
              "    border: none;\n",
              "    border-radius: 50%;\n",
              "    cursor: pointer;\n",
              "    display: none;\n",
              "    fill: var(--fill-color);\n",
              "    height: 32px;\n",
              "    padding: 0;\n",
              "    width: 32px;\n",
              "  }\n",
              "\n",
              "  .colab-df-quickchart:hover {\n",
              "    background-color: var(--hover-bg-color);\n",
              "    box-shadow: 0 1px 2px rgba(60, 64, 67, 0.3), 0 1px 3px 1px rgba(60, 64, 67, 0.15);\n",
              "    fill: var(--button-hover-fill-color);\n",
              "  }\n",
              "\n",
              "  .colab-df-quickchart-complete:disabled,\n",
              "  .colab-df-quickchart-complete:disabled:hover {\n",
              "    background-color: var(--disabled-bg-color);\n",
              "    fill: var(--disabled-fill-color);\n",
              "    box-shadow: none;\n",
              "  }\n",
              "\n",
              "  .colab-df-spinner {\n",
              "    border: 2px solid var(--fill-color);\n",
              "    border-color: transparent;\n",
              "    border-bottom-color: var(--fill-color);\n",
              "    animation:\n",
              "      spin 1s steps(1) infinite;\n",
              "  }\n",
              "\n",
              "  @keyframes spin {\n",
              "    0% {\n",
              "      border-color: transparent;\n",
              "      border-bottom-color: var(--fill-color);\n",
              "      border-left-color: var(--fill-color);\n",
              "    }\n",
              "    20% {\n",
              "      border-color: transparent;\n",
              "      border-left-color: var(--fill-color);\n",
              "      border-top-color: var(--fill-color);\n",
              "    }\n",
              "    30% {\n",
              "      border-color: transparent;\n",
              "      border-left-color: var(--fill-color);\n",
              "      border-top-color: var(--fill-color);\n",
              "      border-right-color: var(--fill-color);\n",
              "    }\n",
              "    40% {\n",
              "      border-color: transparent;\n",
              "      border-right-color: var(--fill-color);\n",
              "      border-top-color: var(--fill-color);\n",
              "    }\n",
              "    60% {\n",
              "      border-color: transparent;\n",
              "      border-right-color: var(--fill-color);\n",
              "    }\n",
              "    80% {\n",
              "      border-color: transparent;\n",
              "      border-right-color: var(--fill-color);\n",
              "      border-bottom-color: var(--fill-color);\n",
              "    }\n",
              "    90% {\n",
              "      border-color: transparent;\n",
              "      border-bottom-color: var(--fill-color);\n",
              "    }\n",
              "  }\n",
              "</style>\n",
              "\n",
              "      <script>\n",
              "        async function quickchart(key) {\n",
              "          const quickchartButtonEl =\n",
              "            document.querySelector('#' + key + ' button');\n",
              "          quickchartButtonEl.disabled = true;  // To prevent multiple clicks.\n",
              "          quickchartButtonEl.classList.add('colab-df-spinner');\n",
              "          try {\n",
              "            const charts = await google.colab.kernel.invokeFunction(\n",
              "                'suggestCharts', [key], {});\n",
              "          } catch (error) {\n",
              "            console.error('Error during call to suggestCharts:', error);\n",
              "          }\n",
              "          quickchartButtonEl.classList.remove('colab-df-spinner');\n",
              "          quickchartButtonEl.classList.add('colab-df-quickchart-complete');\n",
              "        }\n",
              "        (() => {\n",
              "          let quickchartButtonEl =\n",
              "            document.querySelector('#df-62bbc4f9-1884-41fe-a7c0-be90f2772b59 button');\n",
              "          quickchartButtonEl.style.display =\n",
              "            google.colab.kernel.accessAllowed ? 'block' : 'none';\n",
              "        })();\n",
              "      </script>\n",
              "    </div>\n",
              "    </div>\n",
              "  </div>\n"
            ],
            "application/vnd.google.colaboratory.intrinsic+json": {
              "type": "dataframe",
              "variable_name": "df"
            }
          },
          "metadata": {},
          "execution_count": 6
        }
      ]
    },
    {
      "cell_type": "markdown",
      "source": [
        "Посмотрим, есть ли у нас колонки с пропущенными значениями (nan). Получим, что таких значений нет:"
      ],
      "metadata": {
        "id": "dAlGx65sBces"
      }
    },
    {
      "cell_type": "code",
      "source": [
        "df.isna().sum()"
      ],
      "metadata": {
        "colab": {
          "base_uri": "https://localhost:8080/",
          "height": 272
        },
        "id": "aNsMpOjoBMCY",
        "outputId": "dadd53a1-691b-4858-c1cb-100ca1dbab0a"
      },
      "execution_count": null,
      "outputs": [
        {
          "output_type": "execute_result",
          "data": {
            "text/plain": [
              "user id          0\n",
              "test group       0\n",
              "converted        0\n",
              "total ads        0\n",
              "most ads day     0\n",
              "most ads hour    0\n",
              "dtype: int64"
            ],
            "text/html": [
              "<div>\n",
              "<style scoped>\n",
              "    .dataframe tbody tr th:only-of-type {\n",
              "        vertical-align: middle;\n",
              "    }\n",
              "\n",
              "    .dataframe tbody tr th {\n",
              "        vertical-align: top;\n",
              "    }\n",
              "\n",
              "    .dataframe thead th {\n",
              "        text-align: right;\n",
              "    }\n",
              "</style>\n",
              "<table border=\"1\" class=\"dataframe\">\n",
              "  <thead>\n",
              "    <tr style=\"text-align: right;\">\n",
              "      <th></th>\n",
              "      <th>0</th>\n",
              "    </tr>\n",
              "  </thead>\n",
              "  <tbody>\n",
              "    <tr>\n",
              "      <th>user id</th>\n",
              "      <td>0</td>\n",
              "    </tr>\n",
              "    <tr>\n",
              "      <th>test group</th>\n",
              "      <td>0</td>\n",
              "    </tr>\n",
              "    <tr>\n",
              "      <th>converted</th>\n",
              "      <td>0</td>\n",
              "    </tr>\n",
              "    <tr>\n",
              "      <th>total ads</th>\n",
              "      <td>0</td>\n",
              "    </tr>\n",
              "    <tr>\n",
              "      <th>most ads day</th>\n",
              "      <td>0</td>\n",
              "    </tr>\n",
              "    <tr>\n",
              "      <th>most ads hour</th>\n",
              "      <td>0</td>\n",
              "    </tr>\n",
              "  </tbody>\n",
              "</table>\n",
              "</div><br><label><b>dtype:</b> int64</label>"
            ]
          },
          "metadata": {},
          "execution_count": 7
        }
      ]
    },
    {
      "cell_type": "markdown",
      "source": [
        "Посмотрим на типы значений в столбцах:"
      ],
      "metadata": {
        "id": "OIe0PbQVCHUX"
      }
    },
    {
      "cell_type": "code",
      "source": [
        "df.dtypes"
      ],
      "metadata": {
        "colab": {
          "base_uri": "https://localhost:8080/",
          "height": 272
        },
        "id": "AZiyuDiKB1pq",
        "outputId": "c3dbb93a-c61a-47e7-9a26-a3c75917f7fd"
      },
      "execution_count": null,
      "outputs": [
        {
          "output_type": "execute_result",
          "data": {
            "text/plain": [
              "user id           int64\n",
              "test group       object\n",
              "converted          bool\n",
              "total ads         int64\n",
              "most ads day     object\n",
              "most ads hour     int64\n",
              "dtype: object"
            ],
            "text/html": [
              "<div>\n",
              "<style scoped>\n",
              "    .dataframe tbody tr th:only-of-type {\n",
              "        vertical-align: middle;\n",
              "    }\n",
              "\n",
              "    .dataframe tbody tr th {\n",
              "        vertical-align: top;\n",
              "    }\n",
              "\n",
              "    .dataframe thead th {\n",
              "        text-align: right;\n",
              "    }\n",
              "</style>\n",
              "<table border=\"1\" class=\"dataframe\">\n",
              "  <thead>\n",
              "    <tr style=\"text-align: right;\">\n",
              "      <th></th>\n",
              "      <th>0</th>\n",
              "    </tr>\n",
              "  </thead>\n",
              "  <tbody>\n",
              "    <tr>\n",
              "      <th>user id</th>\n",
              "      <td>int64</td>\n",
              "    </tr>\n",
              "    <tr>\n",
              "      <th>test group</th>\n",
              "      <td>object</td>\n",
              "    </tr>\n",
              "    <tr>\n",
              "      <th>converted</th>\n",
              "      <td>bool</td>\n",
              "    </tr>\n",
              "    <tr>\n",
              "      <th>total ads</th>\n",
              "      <td>int64</td>\n",
              "    </tr>\n",
              "    <tr>\n",
              "      <th>most ads day</th>\n",
              "      <td>object</td>\n",
              "    </tr>\n",
              "    <tr>\n",
              "      <th>most ads hour</th>\n",
              "      <td>int64</td>\n",
              "    </tr>\n",
              "  </tbody>\n",
              "</table>\n",
              "</div><br><label><b>dtype:</b> object</label>"
            ]
          },
          "metadata": {},
          "execution_count": 8
        }
      ]
    },
    {
      "cell_type": "code",
      "source": [
        "df['user id'].is_unique"
      ],
      "metadata": {
        "colab": {
          "base_uri": "https://localhost:8080/"
        },
        "id": "DOaovXRLGHVX",
        "outputId": "fca7bc0c-a329-41cb-a4a9-60ee6b18efee"
      },
      "execution_count": null,
      "outputs": [
        {
          "output_type": "execute_result",
          "data": {
            "text/plain": [
              "True"
            ]
          },
          "metadata": {},
          "execution_count": 9
        }
      ]
    },
    {
      "cell_type": "markdown",
      "source": [
        "Как мы видим, все значения в столбце 'user id' уникальные, поэтому он нам не понадобится. Удалим его:"
      ],
      "metadata": {
        "id": "WuJIvmaEGr54"
      }
    },
    {
      "cell_type": "code",
      "source": [
        "df.drop(columns=['user id'], inplace=True)\n",
        "df"
      ],
      "metadata": {
        "colab": {
          "base_uri": "https://localhost:8080/",
          "height": 478
        },
        "id": "2B-5P6k7G5LX",
        "outputId": "ebca9522-3da6-4d49-93e7-7ba4aef084e5"
      },
      "execution_count": null,
      "outputs": [
        {
          "output_type": "execute_result",
          "data": {
            "text/plain": [
              "       test group  converted  total ads most ads day  most ads hour\n",
              "0              ad      False        130       Monday             20\n",
              "1              ad      False         93      Tuesday             22\n",
              "2              ad      False         21      Tuesday             18\n",
              "3              ad      False        355      Tuesday             10\n",
              "4              ad      False        276       Friday             14\n",
              "...           ...        ...        ...          ...            ...\n",
              "588096         ad      False          1      Tuesday             23\n",
              "588097         ad      False          1      Tuesday             23\n",
              "588098         ad      False          3      Tuesday             23\n",
              "588099         ad      False          1      Tuesday             23\n",
              "588100         ad      False          1      Tuesday             23\n",
              "\n",
              "[588101 rows x 5 columns]"
            ],
            "text/html": [
              "\n",
              "  <div id=\"df-1b608c4f-c6b8-44c9-9650-f1e8c15d38ee\" class=\"colab-df-container\">\n",
              "    <div>\n",
              "<style scoped>\n",
              "    .dataframe tbody tr th:only-of-type {\n",
              "        vertical-align: middle;\n",
              "    }\n",
              "\n",
              "    .dataframe tbody tr th {\n",
              "        vertical-align: top;\n",
              "    }\n",
              "\n",
              "    .dataframe thead th {\n",
              "        text-align: right;\n",
              "    }\n",
              "</style>\n",
              "<table border=\"1\" class=\"dataframe\">\n",
              "  <thead>\n",
              "    <tr style=\"text-align: right;\">\n",
              "      <th></th>\n",
              "      <th>test group</th>\n",
              "      <th>converted</th>\n",
              "      <th>total ads</th>\n",
              "      <th>most ads day</th>\n",
              "      <th>most ads hour</th>\n",
              "    </tr>\n",
              "  </thead>\n",
              "  <tbody>\n",
              "    <tr>\n",
              "      <th>0</th>\n",
              "      <td>ad</td>\n",
              "      <td>False</td>\n",
              "      <td>130</td>\n",
              "      <td>Monday</td>\n",
              "      <td>20</td>\n",
              "    </tr>\n",
              "    <tr>\n",
              "      <th>1</th>\n",
              "      <td>ad</td>\n",
              "      <td>False</td>\n",
              "      <td>93</td>\n",
              "      <td>Tuesday</td>\n",
              "      <td>22</td>\n",
              "    </tr>\n",
              "    <tr>\n",
              "      <th>2</th>\n",
              "      <td>ad</td>\n",
              "      <td>False</td>\n",
              "      <td>21</td>\n",
              "      <td>Tuesday</td>\n",
              "      <td>18</td>\n",
              "    </tr>\n",
              "    <tr>\n",
              "      <th>3</th>\n",
              "      <td>ad</td>\n",
              "      <td>False</td>\n",
              "      <td>355</td>\n",
              "      <td>Tuesday</td>\n",
              "      <td>10</td>\n",
              "    </tr>\n",
              "    <tr>\n",
              "      <th>4</th>\n",
              "      <td>ad</td>\n",
              "      <td>False</td>\n",
              "      <td>276</td>\n",
              "      <td>Friday</td>\n",
              "      <td>14</td>\n",
              "    </tr>\n",
              "    <tr>\n",
              "      <th>...</th>\n",
              "      <td>...</td>\n",
              "      <td>...</td>\n",
              "      <td>...</td>\n",
              "      <td>...</td>\n",
              "      <td>...</td>\n",
              "    </tr>\n",
              "    <tr>\n",
              "      <th>588096</th>\n",
              "      <td>ad</td>\n",
              "      <td>False</td>\n",
              "      <td>1</td>\n",
              "      <td>Tuesday</td>\n",
              "      <td>23</td>\n",
              "    </tr>\n",
              "    <tr>\n",
              "      <th>588097</th>\n",
              "      <td>ad</td>\n",
              "      <td>False</td>\n",
              "      <td>1</td>\n",
              "      <td>Tuesday</td>\n",
              "      <td>23</td>\n",
              "    </tr>\n",
              "    <tr>\n",
              "      <th>588098</th>\n",
              "      <td>ad</td>\n",
              "      <td>False</td>\n",
              "      <td>3</td>\n",
              "      <td>Tuesday</td>\n",
              "      <td>23</td>\n",
              "    </tr>\n",
              "    <tr>\n",
              "      <th>588099</th>\n",
              "      <td>ad</td>\n",
              "      <td>False</td>\n",
              "      <td>1</td>\n",
              "      <td>Tuesday</td>\n",
              "      <td>23</td>\n",
              "    </tr>\n",
              "    <tr>\n",
              "      <th>588100</th>\n",
              "      <td>ad</td>\n",
              "      <td>False</td>\n",
              "      <td>1</td>\n",
              "      <td>Tuesday</td>\n",
              "      <td>23</td>\n",
              "    </tr>\n",
              "  </tbody>\n",
              "</table>\n",
              "<p>588101 rows × 5 columns</p>\n",
              "</div>\n",
              "    <div class=\"colab-df-buttons\">\n",
              "\n",
              "  <div class=\"colab-df-container\">\n",
              "    <button class=\"colab-df-convert\" onclick=\"convertToInteractive('df-1b608c4f-c6b8-44c9-9650-f1e8c15d38ee')\"\n",
              "            title=\"Convert this dataframe to an interactive table.\"\n",
              "            style=\"display:none;\">\n",
              "\n",
              "  <svg xmlns=\"http://www.w3.org/2000/svg\" height=\"24px\" viewBox=\"0 -960 960 960\">\n",
              "    <path d=\"M120-120v-720h720v720H120Zm60-500h600v-160H180v160Zm220 220h160v-160H400v160Zm0 220h160v-160H400v160ZM180-400h160v-160H180v160Zm440 0h160v-160H620v160ZM180-180h160v-160H180v160Zm440 0h160v-160H620v160Z\"/>\n",
              "  </svg>\n",
              "    </button>\n",
              "\n",
              "  <style>\n",
              "    .colab-df-container {\n",
              "      display:flex;\n",
              "      gap: 12px;\n",
              "    }\n",
              "\n",
              "    .colab-df-convert {\n",
              "      background-color: #E8F0FE;\n",
              "      border: none;\n",
              "      border-radius: 50%;\n",
              "      cursor: pointer;\n",
              "      display: none;\n",
              "      fill: #1967D2;\n",
              "      height: 32px;\n",
              "      padding: 0 0 0 0;\n",
              "      width: 32px;\n",
              "    }\n",
              "\n",
              "    .colab-df-convert:hover {\n",
              "      background-color: #E2EBFA;\n",
              "      box-shadow: 0px 1px 2px rgba(60, 64, 67, 0.3), 0px 1px 3px 1px rgba(60, 64, 67, 0.15);\n",
              "      fill: #174EA6;\n",
              "    }\n",
              "\n",
              "    .colab-df-buttons div {\n",
              "      margin-bottom: 4px;\n",
              "    }\n",
              "\n",
              "    [theme=dark] .colab-df-convert {\n",
              "      background-color: #3B4455;\n",
              "      fill: #D2E3FC;\n",
              "    }\n",
              "\n",
              "    [theme=dark] .colab-df-convert:hover {\n",
              "      background-color: #434B5C;\n",
              "      box-shadow: 0px 1px 3px 1px rgba(0, 0, 0, 0.15);\n",
              "      filter: drop-shadow(0px 1px 2px rgba(0, 0, 0, 0.3));\n",
              "      fill: #FFFFFF;\n",
              "    }\n",
              "  </style>\n",
              "\n",
              "    <script>\n",
              "      const buttonEl =\n",
              "        document.querySelector('#df-1b608c4f-c6b8-44c9-9650-f1e8c15d38ee button.colab-df-convert');\n",
              "      buttonEl.style.display =\n",
              "        google.colab.kernel.accessAllowed ? 'block' : 'none';\n",
              "\n",
              "      async function convertToInteractive(key) {\n",
              "        const element = document.querySelector('#df-1b608c4f-c6b8-44c9-9650-f1e8c15d38ee');\n",
              "        const dataTable =\n",
              "          await google.colab.kernel.invokeFunction('convertToInteractive',\n",
              "                                                    [key], {});\n",
              "        if (!dataTable) return;\n",
              "\n",
              "        const docLinkHtml = 'Like what you see? Visit the ' +\n",
              "          '<a target=\"_blank\" href=https://colab.research.google.com/notebooks/data_table.ipynb>data table notebook</a>'\n",
              "          + ' to learn more about interactive tables.';\n",
              "        element.innerHTML = '';\n",
              "        dataTable['output_type'] = 'display_data';\n",
              "        await google.colab.output.renderOutput(dataTable, element);\n",
              "        const docLink = document.createElement('div');\n",
              "        docLink.innerHTML = docLinkHtml;\n",
              "        element.appendChild(docLink);\n",
              "      }\n",
              "    </script>\n",
              "  </div>\n",
              "\n",
              "\n",
              "    <div id=\"df-063b7cb1-c636-4da1-b831-435db91cd2ea\">\n",
              "      <button class=\"colab-df-quickchart\" onclick=\"quickchart('df-063b7cb1-c636-4da1-b831-435db91cd2ea')\"\n",
              "                title=\"Suggest charts\"\n",
              "                style=\"display:none;\">\n",
              "\n",
              "<svg xmlns=\"http://www.w3.org/2000/svg\" height=\"24px\"viewBox=\"0 0 24 24\"\n",
              "     width=\"24px\">\n",
              "    <g>\n",
              "        <path d=\"M19 3H5c-1.1 0-2 .9-2 2v14c0 1.1.9 2 2 2h14c1.1 0 2-.9 2-2V5c0-1.1-.9-2-2-2zM9 17H7v-7h2v7zm4 0h-2V7h2v10zm4 0h-2v-4h2v4z\"/>\n",
              "    </g>\n",
              "</svg>\n",
              "      </button>\n",
              "\n",
              "<style>\n",
              "  .colab-df-quickchart {\n",
              "      --bg-color: #E8F0FE;\n",
              "      --fill-color: #1967D2;\n",
              "      --hover-bg-color: #E2EBFA;\n",
              "      --hover-fill-color: #174EA6;\n",
              "      --disabled-fill-color: #AAA;\n",
              "      --disabled-bg-color: #DDD;\n",
              "  }\n",
              "\n",
              "  [theme=dark] .colab-df-quickchart {\n",
              "      --bg-color: #3B4455;\n",
              "      --fill-color: #D2E3FC;\n",
              "      --hover-bg-color: #434B5C;\n",
              "      --hover-fill-color: #FFFFFF;\n",
              "      --disabled-bg-color: #3B4455;\n",
              "      --disabled-fill-color: #666;\n",
              "  }\n",
              "\n",
              "  .colab-df-quickchart {\n",
              "    background-color: var(--bg-color);\n",
              "    border: none;\n",
              "    border-radius: 50%;\n",
              "    cursor: pointer;\n",
              "    display: none;\n",
              "    fill: var(--fill-color);\n",
              "    height: 32px;\n",
              "    padding: 0;\n",
              "    width: 32px;\n",
              "  }\n",
              "\n",
              "  .colab-df-quickchart:hover {\n",
              "    background-color: var(--hover-bg-color);\n",
              "    box-shadow: 0 1px 2px rgba(60, 64, 67, 0.3), 0 1px 3px 1px rgba(60, 64, 67, 0.15);\n",
              "    fill: var(--button-hover-fill-color);\n",
              "  }\n",
              "\n",
              "  .colab-df-quickchart-complete:disabled,\n",
              "  .colab-df-quickchart-complete:disabled:hover {\n",
              "    background-color: var(--disabled-bg-color);\n",
              "    fill: var(--disabled-fill-color);\n",
              "    box-shadow: none;\n",
              "  }\n",
              "\n",
              "  .colab-df-spinner {\n",
              "    border: 2px solid var(--fill-color);\n",
              "    border-color: transparent;\n",
              "    border-bottom-color: var(--fill-color);\n",
              "    animation:\n",
              "      spin 1s steps(1) infinite;\n",
              "  }\n",
              "\n",
              "  @keyframes spin {\n",
              "    0% {\n",
              "      border-color: transparent;\n",
              "      border-bottom-color: var(--fill-color);\n",
              "      border-left-color: var(--fill-color);\n",
              "    }\n",
              "    20% {\n",
              "      border-color: transparent;\n",
              "      border-left-color: var(--fill-color);\n",
              "      border-top-color: var(--fill-color);\n",
              "    }\n",
              "    30% {\n",
              "      border-color: transparent;\n",
              "      border-left-color: var(--fill-color);\n",
              "      border-top-color: var(--fill-color);\n",
              "      border-right-color: var(--fill-color);\n",
              "    }\n",
              "    40% {\n",
              "      border-color: transparent;\n",
              "      border-right-color: var(--fill-color);\n",
              "      border-top-color: var(--fill-color);\n",
              "    }\n",
              "    60% {\n",
              "      border-color: transparent;\n",
              "      border-right-color: var(--fill-color);\n",
              "    }\n",
              "    80% {\n",
              "      border-color: transparent;\n",
              "      border-right-color: var(--fill-color);\n",
              "      border-bottom-color: var(--fill-color);\n",
              "    }\n",
              "    90% {\n",
              "      border-color: transparent;\n",
              "      border-bottom-color: var(--fill-color);\n",
              "    }\n",
              "  }\n",
              "</style>\n",
              "\n",
              "      <script>\n",
              "        async function quickchart(key) {\n",
              "          const quickchartButtonEl =\n",
              "            document.querySelector('#' + key + ' button');\n",
              "          quickchartButtonEl.disabled = true;  // To prevent multiple clicks.\n",
              "          quickchartButtonEl.classList.add('colab-df-spinner');\n",
              "          try {\n",
              "            const charts = await google.colab.kernel.invokeFunction(\n",
              "                'suggestCharts', [key], {});\n",
              "          } catch (error) {\n",
              "            console.error('Error during call to suggestCharts:', error);\n",
              "          }\n",
              "          quickchartButtonEl.classList.remove('colab-df-spinner');\n",
              "          quickchartButtonEl.classList.add('colab-df-quickchart-complete');\n",
              "        }\n",
              "        (() => {\n",
              "          let quickchartButtonEl =\n",
              "            document.querySelector('#df-063b7cb1-c636-4da1-b831-435db91cd2ea button');\n",
              "          quickchartButtonEl.style.display =\n",
              "            google.colab.kernel.accessAllowed ? 'block' : 'none';\n",
              "        })();\n",
              "      </script>\n",
              "    </div>\n",
              "    </div>\n",
              "  </div>\n"
            ],
            "application/vnd.google.colaboratory.intrinsic+json": {
              "type": "dataframe",
              "variable_name": "df"
            }
          },
          "metadata": {},
          "execution_count": 10
        }
      ]
    },
    {
      "cell_type": "markdown",
      "source": [
        "Итак, будем работать с 5 колонками и 588100 столбцами."
      ],
      "metadata": {
        "id": "N_Tpqb5uCzSm"
      }
    },
    {
      "cell_type": "markdown",
      "source": [
        "##Анализ зависимости конверсии от группы"
      ],
      "metadata": {
        "id": "OYlwqQTPH1wO"
      }
    },
    {
      "cell_type": "markdown",
      "source": [
        "Посмотрим на конверсию в каждой из групп и сравним их:"
      ],
      "metadata": {
        "id": "2rOrPu4AJqjr"
      }
    },
    {
      "cell_type": "code",
      "source": [
        "#Группируем данные\n",
        "conversion_data = df.groupby('test group')['converted'].mean().reset_index()\n",
        "print('Конверсии по группам:\\n', conversion_data)\n",
        "\n",
        "#Ищем разность между конверсиями\n",
        "max_row = conversion_data.loc[conversion_data['converted'].idxmax()]\n",
        "min_row = conversion_data.loc[conversion_data['converted'].idxmin()]\n",
        "print(f'Группа {max_row[\"test group\"]} имеет конверсию выше на {(max_row[\"converted\"] - min_row[\"converted\"]):.2%}')"
      ],
      "metadata": {
        "colab": {
          "base_uri": "https://localhost:8080/"
        },
        "id": "y1_OITceJpi3",
        "outputId": "622cf3d5-7d5d-4d4d-8eca-76e1dac2140f"
      },
      "execution_count": null,
      "outputs": [
        {
          "output_type": "stream",
          "name": "stdout",
          "text": [
            "Конверсии по группам:\n",
            "   test group  converted\n",
            "0         ad   0.025547\n",
            "1        psa   0.017854\n",
            "Группа ad имеет конверсию выше на 0.77%\n"
          ]
        }
      ]
    },
    {
      "cell_type": "markdown",
      "source": [
        "Как мы видим, конверсии весьма различаются."
      ],
      "metadata": {
        "id": "Q5uuFQbuSYnr"
      }
    },
    {
      "cell_type": "markdown",
      "source": [
        "Визуализируем данные на графике:"
      ],
      "metadata": {
        "id": "_g6SkfKFEJ8U"
      }
    },
    {
      "cell_type": "code",
      "source": [
        "#Создание графика\n",
        "plt.figure(figsize=(10, 6))\n",
        "plt.bar(conversion_data['test group'], conversion_data['converted'], color=['lime', 'salmon'], alpha = 0.6)\n",
        "plt.title('Сравнение конверсий', fontsize=14)\n",
        "plt.xlabel('Группа', fontsize=12)\n",
        "plt.ylabel('Доля конверсии', fontsize=12)\n",
        "plt.ylim(0, 0.03)\n",
        "\n",
        "#Добавление подписей\n",
        "for i, height in enumerate(conversion_data['converted']):\n",
        "  plt.text(i, height/2, f\"{height*100:.3}%\", fontsize = 14, ha = 'center')"
      ],
      "metadata": {
        "colab": {
          "base_uri": "https://localhost:8080/",
          "height": 211
        },
        "id": "X8GRzKGMEMG7",
        "outputId": "79f7a6d4-438f-4724-8e18-0fc9ff1fb483"
      },
      "execution_count": null,
      "outputs": [
        {
          "output_type": "display_data",
          "data": {
            "text/plain": [
              "<Figure size 1000x600 with 1 Axes>"
            ],
            "image/png": "[encoded data removed]"
          },
          "metadata": {}
        }
      ]
    },
    {
      "cell_type": "markdown",
      "source": [
        "Узнаем, сколько людей было в каждой группе"
      ],
      "metadata": {
        "id": "oOx_p--HSg4g"
      }
    },
    {
      "cell_type": "code",
      "source": [
        "print(\"Число людей по группам:\")\n",
        "print(df['test group'].value_counts())\n",
        "\n",
        "print(\"\\nДоля людей по группам:\")\n",
        "print(df['test group'].value_counts(normalize=True))"
      ],
      "metadata": {
        "colab": {
          "base_uri": "https://localhost:8080/"
        },
        "id": "0M4E-y_PKt5b",
        "outputId": "c982fa78-e11e-4f3c-a2f2-b4492512a9fd"
      },
      "execution_count": null,
      "outputs": [
        {
          "output_type": "stream",
          "name": "stdout",
          "text": [
            "Число людей по группам:\n",
            "test group\n",
            "ad     564577\n",
            "psa     23524\n",
            "Name: count, dtype: int64\n",
            "\n",
            "Доля людей по группам:\n",
            "test group\n",
            "ad     0.96\n",
            "psa    0.04\n",
            "Name: proportion, dtype: float64\n"
          ]
        }
      ]
    },
    {
      "cell_type": "markdown",
      "source": [
        "\n",
        "\n",
        "*   Число людей, которым было показано рекламное объявление, значительно выше (их 96%), чем тех, кому просто показали публичное объявление (4%). Это может серьёзно повлиять на достоверность сравнения.\n",
        "*   Конверсия в преобладающей группе - 2.55%, тогда как во второй группе - 1.79%. Такое различие может говорить о положительном влиянии рекламного объявления на конверсию."
      ],
      "metadata": {
        "id": "gk3-jYpYVM5q"
      }
    },
    {
      "cell_type": "markdown",
      "source": [
        "**Тестирование гипотезы**"
      ],
      "metadata": {
        "id": "rXXspSs1Yp9S"
      }
    },
    {
      "cell_type": "markdown",
      "source": [
        "Проведём T-тест для сравнения коэффициентов конверсии. В нашем случае:\n",
        "\n",
        "1. **Нулевая гипотеза:** Существенной разницы между конверсиями в первой и второй группах нет.\n",
        "\n",
        "2. **Альтернативная гипотеза:** Между конверсиями в двух группах наблюдается существенно значимая разница (реклама повышает уровень конверсии)."
      ],
      "metadata": {
        "id": "zqv6kSIsYvhj"
      }
    },
    {
      "cell_type": "markdown",
      "source": [
        "Для корректной работы преобразуем тип колонки 'converted' на целочисленный:"
      ],
      "metadata": {
        "id": "Jm8iUZBIgrTw"
      }
    },
    {
      "cell_type": "code",
      "source": [
        "df['converted'] = df['converted'].astype(int)\n",
        "df.dtypes"
      ],
      "metadata": {
        "colab": {
          "base_uri": "https://localhost:8080/",
          "height": 241
        },
        "id": "YN-KdhEkgxMh",
        "outputId": "2cb52a0e-0f0d-4ce2-a07f-c3dca21b48f2"
      },
      "execution_count": null,
      "outputs": [
        {
          "output_type": "execute_result",
          "data": {
            "text/plain": [
              "test group       object\n",
              "converted         int64\n",
              "total ads         int64\n",
              "most ads day     object\n",
              "most ads hour     int64\n",
              "dtype: object"
            ],
            "text/html": [
              "<div>\n",
              "<style scoped>\n",
              "    .dataframe tbody tr th:only-of-type {\n",
              "        vertical-align: middle;\n",
              "    }\n",
              "\n",
              "    .dataframe tbody tr th {\n",
              "        vertical-align: top;\n",
              "    }\n",
              "\n",
              "    .dataframe thead th {\n",
              "        text-align: right;\n",
              "    }\n",
              "</style>\n",
              "<table border=\"1\" class=\"dataframe\">\n",
              "  <thead>\n",
              "    <tr style=\"text-align: right;\">\n",
              "      <th></th>\n",
              "      <th>0</th>\n",
              "    </tr>\n",
              "  </thead>\n",
              "  <tbody>\n",
              "    <tr>\n",
              "      <th>test group</th>\n",
              "      <td>object</td>\n",
              "    </tr>\n",
              "    <tr>\n",
              "      <th>converted</th>\n",
              "      <td>int64</td>\n",
              "    </tr>\n",
              "    <tr>\n",
              "      <th>total ads</th>\n",
              "      <td>int64</td>\n",
              "    </tr>\n",
              "    <tr>\n",
              "      <th>most ads day</th>\n",
              "      <td>object</td>\n",
              "    </tr>\n",
              "    <tr>\n",
              "      <th>most ads hour</th>\n",
              "      <td>int64</td>\n",
              "    </tr>\n",
              "  </tbody>\n",
              "</table>\n",
              "</div><br><label><b>dtype:</b> object</label>"
            ]
          },
          "metadata": {},
          "execution_count": 14
        }
      ]
    },
    {
      "cell_type": "code",
      "source": [
        "#Выделяем группы\n",
        "psa_group = df[df['test group'] == 'psa']\n",
        "ad_group = df[df['test group'] == 'ad']\n",
        "\n",
        "#Проводим тест\n",
        "t_stat, p_val = ttest_ind(ad_group['converted'], psa_group['converted'])\n",
        "print(f\"Test Group Analysis - T-statistic: {t_stat}, P-value: {p_val}\")"
      ],
      "metadata": {
        "colab": {
          "base_uri": "https://localhost:8080/"
        },
        "id": "rTnKyVVhdc43",
        "outputId": "8f9998a3-d730-4bfd-fb47-0c22f6c7e970"
      },
      "execution_count": null,
      "outputs": [
        {
          "output_type": "stream",
          "name": "stdout",
          "text": [
            "Test Group Analysis - T-statistic: 7.37040597428566, P-value: 1.7033052627831264e-13\n"
          ]
        }
      ]
    },
    {
      "cell_type": "markdown",
      "source": [
        "* Показатель T-распределения получился весьма большой, а значит\n",
        "между средними значениями в двух группах наблюдается большая разница.\n",
        "\n",
        "* P-value получилось очень маленьким, поэтому можем смело отвергать нулевую гипотезу (показатель явно ниже общепринятого 0.05)."
      ],
      "metadata": {
        "id": "u1be12CvhgMr"
      }
    },
    {
      "cell_type": "markdown",
      "source": [
        "**Вывод:** Результаты теста показывают статистически значимое различие: группа ad демонстрирует более высокую конверсию по сравнению с группой psa. Это значит, что показ рекламного объявления более значим для нас."
      ],
      "metadata": {
        "id": "1tjM6rfNkZ4K"
      }
    },
    {
      "cell_type": "markdown",
      "source": [
        "##Анализ зависимости конверсии от дня недели"
      ],
      "metadata": {
        "id": "uazeCxjFhzf0"
      }
    },
    {
      "cell_type": "code",
      "source": [
        "#Группируем данные по дням недели\n",
        "day_data = df.groupby('most ads day')['converted'].mean().reset_index()\n",
        "day_data"
      ],
      "metadata": {
        "id": "S6AiJoi4iYfK",
        "colab": {
          "base_uri": "https://localhost:8080/",
          "height": 269
        },
        "outputId": "f1adae45-6c9e-4739-d4b5-87789522f1d9"
      },
      "execution_count": null,
      "outputs": [
        {
          "output_type": "execute_result",
          "data": {
            "text/plain": [
              "  most ads day  converted\n",
              "0       Friday   0.022212\n",
              "1       Monday   0.032812\n",
              "2     Saturday   0.021051\n",
              "3       Sunday   0.024476\n",
              "4     Thursday   0.021571\n",
              "5      Tuesday   0.029840\n",
              "6    Wednesday   0.024942"
            ],
            "text/html": [
              "\n",
              "  <div id=\"df-e3cf2a1f-2bc5-4e2f-817f-7a1769b916bb\" class=\"colab-df-container\">\n",
              "    <div>\n",
              "<style scoped>\n",
              "    .dataframe tbody tr th:only-of-type {\n",
              "        vertical-align: middle;\n",
              "    }\n",
              "\n",
              "    .dataframe tbody tr th {\n",
              "        vertical-align: top;\n",
              "    }\n",
              "\n",
              "    .dataframe thead th {\n",
              "        text-align: right;\n",
              "    }\n",
              "</style>\n",
              "<table border=\"1\" class=\"dataframe\">\n",
              "  <thead>\n",
              "    <tr style=\"text-align: right;\">\n",
              "      <th></th>\n",
              "      <th>most ads day</th>\n",
              "      <th>converted</th>\n",
              "    </tr>\n",
              "  </thead>\n",
              "  <tbody>\n",
              "    <tr>\n",
              "      <th>0</th>\n",
              "      <td>Friday</td>\n",
              "      <td>0.022212</td>\n",
              "    </tr>\n",
              "    <tr>\n",
              "      <th>1</th>\n",
              "      <td>Monday</td>\n",
              "      <td>0.032812</td>\n",
              "    </tr>\n",
              "    <tr>\n",
              "      <th>2</th>\n",
              "      <td>Saturday</td>\n",
              "      <td>0.021051</td>\n",
              "    </tr>\n",
              "    <tr>\n",
              "      <th>3</th>\n",
              "      <td>Sunday</td>\n",
              "      <td>0.024476</td>\n",
              "    </tr>\n",
              "    <tr>\n",
              "      <th>4</th>\n",
              "      <td>Thursday</td>\n",
              "      <td>0.021571</td>\n",
              "    </tr>\n",
              "    <tr>\n",
              "      <th>5</th>\n",
              "      <td>Tuesday</td>\n",
              "      <td>0.029840</td>\n",
              "    </tr>\n",
              "    <tr>\n",
              "      <th>6</th>\n",
              "      <td>Wednesday</td>\n",
              "      <td>0.024942</td>\n",
              "    </tr>\n",
              "  </tbody>\n",
              "</table>\n",
              "</div>\n",
              "    <div class=\"colab-df-buttons\">\n",
              "\n",
              "  <div class=\"colab-df-container\">\n",
              "    <button class=\"colab-df-convert\" onclick=\"convertToInteractive('df-e3cf2a1f-2bc5-4e2f-817f-7a1769b916bb')\"\n",
              "            title=\"Convert this dataframe to an interactive table.\"\n",
              "            style=\"display:none;\">\n",
              "\n",
              "  <svg xmlns=\"http://www.w3.org/2000/svg\" height=\"24px\" viewBox=\"0 -960 960 960\">\n",
              "    <path d=\"M120-120v-720h720v720H120Zm60-500h600v-160H180v160Zm220 220h160v-160H400v160Zm0 220h160v-160H400v160ZM180-400h160v-160H180v160Zm440 0h160v-160H620v160ZM180-180h160v-160H180v160Zm440 0h160v-160H620v160Z\"/>\n",
              "  </svg>\n",
              "    </button>\n",
              "\n",
              "  <style>\n",
              "    .colab-df-container {\n",
              "      display:flex;\n",
              "      gap: 12px;\n",
              "    }\n",
              "\n",
              "    .colab-df-convert {\n",
              "      background-color: #E8F0FE;\n",
              "      border: none;\n",
              "      border-radius: 50%;\n",
              "      cursor: pointer;\n",
              "      display: none;\n",
              "      fill: #1967D2;\n",
              "      height: 32px;\n",
              "      padding: 0 0 0 0;\n",
              "      width: 32px;\n",
              "    }\n",
              "\n",
              "    .colab-df-convert:hover {\n",
              "      background-color: #E2EBFA;\n",
              "      box-shadow: 0px 1px 2px rgba(60, 64, 67, 0.3), 0px 1px 3px 1px rgba(60, 64, 67, 0.15);\n",
              "      fill: #174EA6;\n",
              "    }\n",
              "\n",
              "    .colab-df-buttons div {\n",
              "      margin-bottom: 4px;\n",
              "    }\n",
              "\n",
              "    [theme=dark] .colab-df-convert {\n",
              "      background-color: #3B4455;\n",
              "      fill: #D2E3FC;\n",
              "    }\n",
              "\n",
              "    [theme=dark] .colab-df-convert:hover {\n",
              "      background-color: #434B5C;\n",
              "      box-shadow: 0px 1px 3px 1px rgba(0, 0, 0, 0.15);\n",
              "      filter: drop-shadow(0px 1px 2px rgba(0, 0, 0, 0.3));\n",
              "      fill: #FFFFFF;\n",
              "    }\n",
              "  </style>\n",
              "\n",
              "    <script>\n",
              "      const buttonEl =\n",
              "        document.querySelector('#df-e3cf2a1f-2bc5-4e2f-817f-7a1769b916bb button.colab-df-convert');\n",
              "      buttonEl.style.display =\n",
              "        google.colab.kernel.accessAllowed ? 'block' : 'none';\n",
              "\n",
              "      async function convertToInteractive(key) {\n",
              "        const element = document.querySelector('#df-e3cf2a1f-2bc5-4e2f-817f-7a1769b916bb');\n",
              "        const dataTable =\n",
              "          await google.colab.kernel.invokeFunction('convertToInteractive',\n",
              "                                                    [key], {});\n",
              "        if (!dataTable) return;\n",
              "\n",
              "        const docLinkHtml = 'Like what you see? Visit the ' +\n",
              "          '<a target=\"_blank\" href=https://colab.research.google.com/notebooks/data_table.ipynb>data table notebook</a>'\n",
              "          + ' to learn more about interactive tables.';\n",
              "        element.innerHTML = '';\n",
              "        dataTable['output_type'] = 'display_data';\n",
              "        await google.colab.output.renderOutput(dataTable, element);\n",
              "        const docLink = document.createElement('div');\n",
              "        docLink.innerHTML = docLinkHtml;\n",
              "        element.appendChild(docLink);\n",
              "      }\n",
              "    </script>\n",
              "  </div>\n",
              "\n",
              "\n",
              "    <div id=\"df-b1aa236e-2e0c-4843-b675-8d56fe482f98\">\n",
              "      <button class=\"colab-df-quickchart\" onclick=\"quickchart('df-b1aa236e-2e0c-4843-b675-8d56fe482f98')\"\n",
              "                title=\"Suggest charts\"\n",
              "                style=\"display:none;\">\n",
              "\n",
              "<svg xmlns=\"http://www.w3.org/2000/svg\" height=\"24px\"viewBox=\"0 0 24 24\"\n",
              "     width=\"24px\">\n",
              "    <g>\n",
              "        <path d=\"M19 3H5c-1.1 0-2 .9-2 2v14c0 1.1.9 2 2 2h14c1.1 0 2-.9 2-2V5c0-1.1-.9-2-2-2zM9 17H7v-7h2v7zm4 0h-2V7h2v10zm4 0h-2v-4h2v4z\"/>\n",
              "    </g>\n",
              "</svg>\n",
              "      </button>\n",
              "\n",
              "<style>\n",
              "  .colab-df-quickchart {\n",
              "      --bg-color: #E8F0FE;\n",
              "      --fill-color: #1967D2;\n",
              "      --hover-bg-color: #E2EBFA;\n",
              "      --hover-fill-color: #174EA6;\n",
              "      --disabled-fill-color: #AAA;\n",
              "      --disabled-bg-color: #DDD;\n",
              "  }\n",
              "\n",
              "  [theme=dark] .colab-df-quickchart {\n",
              "      --bg-color: #3B4455;\n",
              "      --fill-color: #D2E3FC;\n",
              "      --hover-bg-color: #434B5C;\n",
              "      --hover-fill-color: #FFFFFF;\n",
              "      --disabled-bg-color: #3B4455;\n",
              "      --disabled-fill-color: #666;\n",
              "  }\n",
              "\n",
              "  .colab-df-quickchart {\n",
              "    background-color: var(--bg-color);\n",
              "    border: none;\n",
              "    border-radius: 50%;\n",
              "    cursor: pointer;\n",
              "    display: none;\n",
              "    fill: var(--fill-color);\n",
              "    height: 32px;\n",
              "    padding: 0;\n",
              "    width: 32px;\n",
              "  }\n",
              "\n",
              "  .colab-df-quickchart:hover {\n",
              "    background-color: var(--hover-bg-color);\n",
              "    box-shadow: 0 1px 2px rgba(60, 64, 67, 0.3), 0 1px 3px 1px rgba(60, 64, 67, 0.15);\n",
              "    fill: var(--button-hover-fill-color);\n",
              "  }\n",
              "\n",
              "  .colab-df-quickchart-complete:disabled,\n",
              "  .colab-df-quickchart-complete:disabled:hover {\n",
              "    background-color: var(--disabled-bg-color);\n",
              "    fill: var(--disabled-fill-color);\n",
              "    box-shadow: none;\n",
              "  }\n",
              "\n",
              "  .colab-df-spinner {\n",
              "    border: 2px solid var(--fill-color);\n",
              "    border-color: transparent;\n",
              "    border-bottom-color: var(--fill-color);\n",
              "    animation:\n",
              "      spin 1s steps(1) infinite;\n",
              "  }\n",
              "\n",
              "  @keyframes spin {\n",
              "    0% {\n",
              "      border-color: transparent;\n",
              "      border-bottom-color: var(--fill-color);\n",
              "      border-left-color: var(--fill-color);\n",
              "    }\n",
              "    20% {\n",
              "      border-color: transparent;\n",
              "      border-left-color: var(--fill-color);\n",
              "      border-top-color: var(--fill-color);\n",
              "    }\n",
              "    30% {\n",
              "      border-color: transparent;\n",
              "      border-left-color: var(--fill-color);\n",
              "      border-top-color: var(--fill-color);\n",
              "      border-right-color: var(--fill-color);\n",
              "    }\n",
              "    40% {\n",
              "      border-color: transparent;\n",
              "      border-right-color: var(--fill-color);\n",
              "      border-top-color: var(--fill-color);\n",
              "    }\n",
              "    60% {\n",
              "      border-color: transparent;\n",
              "      border-right-color: var(--fill-color);\n",
              "    }\n",
              "    80% {\n",
              "      border-color: transparent;\n",
              "      border-right-color: var(--fill-color);\n",
              "      border-bottom-color: var(--fill-color);\n",
              "    }\n",
              "    90% {\n",
              "      border-color: transparent;\n",
              "      border-bottom-color: var(--fill-color);\n",
              "    }\n",
              "  }\n",
              "</style>\n",
              "\n",
              "      <script>\n",
              "        async function quickchart(key) {\n",
              "          const quickchartButtonEl =\n",
              "            document.querySelector('#' + key + ' button');\n",
              "          quickchartButtonEl.disabled = true;  // To prevent multiple clicks.\n",
              "          quickchartButtonEl.classList.add('colab-df-spinner');\n",
              "          try {\n",
              "            const charts = await google.colab.kernel.invokeFunction(\n",
              "                'suggestCharts', [key], {});\n",
              "          } catch (error) {\n",
              "            console.error('Error during call to suggestCharts:', error);\n",
              "          }\n",
              "          quickchartButtonEl.classList.remove('colab-df-spinner');\n",
              "          quickchartButtonEl.classList.add('colab-df-quickchart-complete');\n",
              "        }\n",
              "        (() => {\n",
              "          let quickchartButtonEl =\n",
              "            document.querySelector('#df-b1aa236e-2e0c-4843-b675-8d56fe482f98 button');\n",
              "          quickchartButtonEl.style.display =\n",
              "            google.colab.kernel.accessAllowed ? 'block' : 'none';\n",
              "        })();\n",
              "      </script>\n",
              "    </div>\n",
              "    </div>\n",
              "  </div>\n"
            ],
            "application/vnd.google.colaboratory.intrinsic+json": {
              "type": "dataframe",
              "variable_name": "day_data",
              "summary": "{\n  \"name\": \"day_data\",\n  \"rows\": 7,\n  \"fields\": [\n    {\n      \"column\": \"most ads day\",\n      \"properties\": {\n        \"dtype\": \"string\",\n        \"num_unique_values\": 7,\n        \"samples\": [\n          \"Friday\",\n          \"Monday\",\n          \"Tuesday\"\n        ],\n        \"semantic_type\": \"\",\n        \"description\": \"\"\n      }\n    },\n    {\n      \"column\": \"converted\",\n      \"properties\": {\n        \"dtype\": \"number\",\n        \"std\": 0.004459803831933615,\n        \"min\": 0.021050698016164583,\n        \"max\": 0.03281154893020798,\n        \"num_unique_values\": 7,\n        \"samples\": [\n          0.02221190393918452,\n          0.03281154893020798,\n          0.029840343835103707\n        ],\n        \"semantic_type\": \"\",\n        \"description\": \"\"\n      }\n    }\n  ]\n}"
            }
          },
          "metadata": {},
          "execution_count": 16
        }
      ]
    },
    {
      "cell_type": "code",
      "source": [
        "# Задаём правильный порядок дней недели\n",
        "days_order = ['Monday', 'Tuesday', 'Wednesday', 'Thursday', 'Friday', 'Saturday', 'Sunday']\n",
        "\n",
        "# Группируем данные\n",
        "day_data = (df.groupby('most ads day')['converted']\n",
        "            .mean()\n",
        "            .reindex(days_order)\n",
        "            .reset_index())\n",
        "\n",
        "# Строим график\n",
        "plt.figure(figsize=(8, 5))\n",
        "colors = plt.cm.viridis(np.linspace(0.45, 1, 10), alpha = 0.5 )\n",
        "bars = plt.bar(day_data['most ads day'], day_data['converted'], color=colors)\n",
        "plt.title('Конверсия по дням')\n",
        "plt.xticks(rotation=45)\n",
        "plt.grid(axis='y', linestyle='--', alpha=0.3)\n",
        "plt.tight_layout()\n",
        "\n",
        "# Добавляем подписи значений\n",
        "for bar in bars:\n",
        "    height = bar.get_height()\n",
        "    plt.text(bar.get_x() + bar.get_width()/2, height/2, f'{height:.1%}',\n",
        "             ha='center', va='bottom')\n",
        "\n",
        "plt.show()"
      ],
      "metadata": {
        "colab": {
          "base_uri": "https://localhost:8080/",
          "height": 507
        },
        "id": "U3GpFjEykW6G",
        "outputId": "c808c890-43e1-4ec4-a628-56d0e7a8b1c0"
      },
      "execution_count": null,
      "outputs": [
        {
          "output_type": "display_data",
          "data": {
            "text/plain": [
              "<Figure size 800x500 with 1 Axes>"
            ],
            "image/png": "[encoded data removed]"
          },
          "metadata": {}
        }
      ]
    },
    {
      "cell_type": "markdown",
      "source": [
        "Как видно по графику, средняя конверсия достигает своего пика в начале недели - понедельник и вторник.\n",
        "Можем предположить, что конверсия зависит от дней недели. Проведём соответствующую гипотезу и протестируем её. Для проверки будем использовать F-тест (ANOVA)."
      ],
      "metadata": {
        "id": "K0TteEQf4Vh1"
      }
    },
    {
      "cell_type": "markdown",
      "source": [
        "**Нулевая гипотеза:** День недели не оказывает существенного влияния на конверсию.\n",
        "\n",
        "**Альтернативная гипотеза:** День недели оказывает серьёзное влияния на конверсию."
      ],
      "metadata": {
        "id": "wNoGk9Qz5Esh"
      }
    },
    {
      "cell_type": "code",
      "source": [
        "# Проводим F-тест\n",
        "anova_result = f_oneway(*[df[df['most ads day'] == day]['converted'] for day in days_order])\n",
        "\n",
        "# Выводим результаты\n",
        "print(\"Результаты теста:\")\n",
        "print(\"F-статистика:\", anova_result.statistic)\n",
        "print(\"p-value:\", anova_result.pvalue)"
      ],
      "metadata": {
        "colab": {
          "base_uri": "https://localhost:8080/"
        },
        "id": "1Fz59uqp8E7e",
        "outputId": "37e53d20-be52-4ea6-d8c3-3855cacbfb1f"
      },
      "execution_count": null,
      "outputs": [
        {
          "output_type": "stream",
          "name": "stdout",
          "text": [
            "Результаты теста:\n",
            "F-статистика: 68.38818386898062\n",
            "p-value: 1.8032007655359558e-85\n"
          ]
        }
      ]
    },
    {
      "cell_type": "markdown",
      "source": [
        "**Вывод:** P-value получилось очень низким. Можем смело отклонять нулевую гипотезу и утверждать, что конверсия действительно зависит от дня недели."
      ],
      "metadata": {
        "id": "fdDW3vy5Ahmh"
      }
    },
    {
      "cell_type": "markdown",
      "source": [
        "Мы рассматривали данные в общем случае. Теперь попробуем посмотреть на зависимость для каждой группы отдельно."
      ],
      "metadata": {
        "id": "iP_wZTcSKVp_"
      }
    },
    {
      "cell_type": "code",
      "source": [
        "# Группируем данные для каждой из групп\n",
        "ad_data = (df[df['test group'] == 'ad']\n",
        "           .groupby('most ads day')['converted']\n",
        "           .mean()\n",
        "           .reindex(days_order)\n",
        "           .reset_index())\n",
        "\n",
        "psa_data = (df[df['test group'] == 'psa']\n",
        "            .groupby('most ads day')['converted']\n",
        "            .mean()\n",
        "            .reindex(days_order)\n",
        "            .reset_index())\n",
        "\n",
        "# Настраиваем график\n",
        "plt.figure(figsize=(10, 6))\n",
        "width = 0.35\n",
        "x = np.arange(len(days_order))\n",
        "\n",
        "# Столбцы для групп\n",
        "bars_ad = plt.bar(x - width/2, ad_data['converted'], width,\n",
        "                 color='lime', alpha=0.7, label='ad')\n",
        "\n",
        "bars_psa = plt.bar(x + width/2, psa_data['converted'], width,\n",
        "                   color='salmon', alpha=0.7, label='psa')\n",
        "\n",
        "# Оформление\n",
        "plt.title('Сравнение конверсии по дням недели', fontsize=14)\n",
        "plt.xlabel('День недели', fontsize=12)\n",
        "plt.ylabel('Конверсия', fontsize=12)\n",
        "plt.xticks(x, days_order, rotation=45)\n",
        "plt.legend()\n",
        "plt.grid(axis='y', linestyle='--', alpha=0.3)\n",
        "\n",
        "# Подписываем значения\n",
        "for bars in [bars_ad, bars_psa]:\n",
        "    for bar in bars:\n",
        "        height = bar.get_height()\n",
        "        plt.text(bar.get_x() + bar.get_width()/2, height/2, f'{height:.1%}',\n",
        "                 ha='center', va='bottom', fontsize=9)\n",
        "\n",
        "plt.tight_layout()\n",
        "plt.show()"
      ],
      "metadata": {
        "colab": {
          "base_uri": "https://localhost:8080/",
          "height": 198
        },
        "id": "-zzcsmD2KhUd",
        "outputId": "7aff8b67-3ce5-4819-9cb7-af6c47b3ba52"
      },
      "execution_count": null,
      "outputs": [
        {
          "output_type": "display_data",
          "data": {
            "text/plain": [
              "<Figure size 1000x600 with 1 Axes>"
            ],
            "image/png": "[encoded data removed]"
          },
          "metadata": {}
        }
      ]
    },
    {
      "cell_type": "markdown",
      "source": [
        "Для преобладающей группы конверсия распределена примерно так же, как в общем случае. То есть здесь зависимость будет примерно такой же, как и в общем случае.\n",
        "\n",
        "Понедельник - день с самой высокой конверсией, как для первой, так и для второй группы.\n",
        "\n",
        "Однако для 'psa' распределение иное и между днями нет таких резких различий. Поэтому стоит провести F-тест - узнать, есть ли в этом случае реальная зависимость между днём недели и конверсией."
      ],
      "metadata": {
        "id": "BrUSvhv2LcwN"
      }
    },
    {
      "cell_type": "markdown",
      "source": [
        "\n",
        "**Нулевая гипотеза:** День недели не оказывает существенного влияния на конверсию.\n",
        "\n",
        "**Альтернативная гипотеза:** День недели оказывает серьёзное влияние на конверсию."
      ],
      "metadata": {
        "id": "UOQh-_JSN64O"
      }
    },
    {
      "cell_type": "code",
      "source": [
        "psa_df = df[df['test group'] == 'psa']\n",
        "\n",
        "# Создаем список данных по дням недели\n",
        "psa_day_groups = [psa_df[psa_df['most ads day'] == day]['converted'] for day in days_order]\n",
        "\n",
        "f_stat, p_value = f_oneway(*psa_day_groups)\n",
        "\n",
        "print(\"Результаты:\")\n",
        "print(f\"F-статистика: {f_stat:}\")\n",
        "print(f\"p-value: {p_value:}\")"
      ],
      "metadata": {
        "colab": {
          "base_uri": "https://localhost:8080/"
        },
        "id": "M--K-QMBMz_Z",
        "outputId": "7c6718a8-a40c-411e-fa77-f194a78c06bf"
      },
      "execution_count": null,
      "outputs": [
        {
          "output_type": "stream",
          "name": "stdout",
          "text": [
            "Результаты:\n",
            "F-статистика: 2.122674085135708\n",
            "p-value: 0.047465561910824364\n"
          ]
        }
      ]
    },
    {
      "cell_type": "markdown",
      "source": [
        "**Вывод:** P-value куда выше, чем в общем случае. Однако, так как оно меньше, чем 0.05 (общепринятая граница), можем отклонить нулевую гипотезу. То есть и сейчас мы получили, что день недели, в которые показывается реклама/публичное объявление, существенно влияет на результат.\n",
        "\n",
        "Тем не менее, зависимость эта куда менее ярко выражена по сравнению с группой 'ad': кроме увеличенного p-value, значение F-статистики так же заметно изменилось - уменьшилось более чем в 30 раз."
      ],
      "metadata": {
        "id": "qFnILtqxM8Zc"
      }
    },
    {
      "cell_type": "markdown",
      "source": [
        "##Анализ зависимости конверсии от времени суток"
      ],
      "metadata": {
        "id": "IqWBBr0dCWDL"
      }
    },
    {
      "cell_type": "code",
      "source": [
        "# Группируем данные по часам\n",
        "hour_data = (df.groupby('most ads hour')['converted']\n",
        "             .mean()\n",
        "             .reset_index()\n",
        "             .sort_values('most ads hour'))"
      ],
      "metadata": {
        "id": "NXUAWbEjCUmx"
      },
      "execution_count": null,
      "outputs": []
    },
    {
      "cell_type": "code",
      "source": [
        "# Строим график\n",
        "plt.figure(figsize=(12, 6))\n",
        "colors = plt.cm.plasma(np.linspace(0.2, 1, 24), alpha=0.7)\n",
        "bars = plt.bar(hour_data['most ads hour'], hour_data['converted'], color=colors)\n",
        "plt.title('Конверсия по часам дня', fontsize=14)\n",
        "plt.xlabel('Час дня', fontsize=12)\n",
        "plt.ylabel('Конверсия', fontsize=12)\n",
        "plt.xticks(range(24))  # все часы\n",
        "plt.grid(axis='y', linestyle='--', alpha=0.3)\n",
        "\n",
        "plt.tight_layout()\n",
        "plt.show()"
      ],
      "metadata": {
        "colab": {
          "base_uri": "https://localhost:8080/",
          "height": 168
        },
        "id": "D_xK4hJGCdZ1",
        "outputId": "51962004-fa0b-4a6f-84bf-543bc2bab40c"
      },
      "execution_count": null,
      "outputs": [
        {
          "output_type": "display_data",
          "data": {
            "text/plain": [
              "<Figure size 1200x600 with 1 Axes>"
            ],
            "image/png": "[encoded data removed]"
          },
          "metadata": {}
        }
      ]
    },
    {
      "cell_type": "markdown",
      "source": [
        "Конверсия максимальна во второй половине дня и минимальна ночью. Это, в целом, неудивительно."
      ],
      "metadata": {
        "id": "7uf-pnXmGl3e"
      }
    },
    {
      "cell_type": "markdown",
      "source": [
        "Проведём F-test:\n",
        "\n",
        "**Нулевая гипотеза:** Конверсия не зависит от времени суток.\n",
        "\n",
        "**Альтернативная гипотеза:** Время суток существенно влияет на конверсию."
      ],
      "metadata": {
        "id": "A99u36ccGyuK"
      }
    },
    {
      "cell_type": "code",
      "source": [
        "# Проводим F-тест\n",
        "anova_hour_result = f_oneway(*[df[df['most ads hour'] == hour]['converted'] for hour in range(24)])\n",
        "\n",
        "# Выводим результаты\n",
        "print(\"Результаты теста:\")\n",
        "print(f\"F-статистика: {anova_hour_result.statistic}\")\n",
        "print(f\"p-value: {anova_hour_result.pvalue}\")"
      ],
      "metadata": {
        "colab": {
          "base_uri": "https://localhost:8080/"
        },
        "id": "A5Ju-9imCssT",
        "outputId": "4951ae21-c310-4215-b942-c9d209018025"
      },
      "execution_count": null,
      "outputs": [
        {
          "output_type": "stream",
          "name": "stdout",
          "text": [
            "Результаты теста:\n",
            "F-статистика: 18.742037312974496\n",
            "p-value: 7.482025334833055e-77\n"
          ]
        }
      ]
    },
    {
      "cell_type": "markdown",
      "source": [
        "Как и в прошлый раз, p-value оказалось очень низким.\n",
        "\n",
        "**Вывод:** Можем смело отклонять нулевую гипотезу. В нашем случае время суток действительно влияет на конверсию. В целом, это было очевидно. Статистический метод подтвердил наши ожидания"
      ],
      "metadata": {
        "id": "_qQgXCyxHV2Z"
      }
    },
    {
      "cell_type": "markdown",
      "source": [
        "Теперь рассмотрим группы по отдельности:"
      ],
      "metadata": {
        "id": "08lIU09BPtJU"
      }
    },
    {
      "cell_type": "code",
      "source": [
        "# Данные для каждой группы\n",
        "ad_hour_data = (df[df['test group'] == 'ad']\n",
        "                .groupby('most ads hour')['converted']\n",
        "                .mean()\n",
        "                .reset_index()\n",
        "                .sort_values('most ads hour'))\n",
        "\n",
        "psa_hour_data = (df[df['test group'] == 'psa']\n",
        "                 .groupby('most ads hour')['converted']\n",
        "                 .mean()\n",
        "                 .reset_index()\n",
        "                 .sort_values('most ads hour'))\n",
        "\n",
        "# Строим график\n",
        "plt.figure(figsize=(14, 7))\n",
        "width = 0.35\n",
        "x = np.arange(24)\n",
        "\n",
        "# Столбцы для групп\n",
        "plt.bar(x - width/2,\n",
        "        ad_hour_data['converted'],\n",
        "        width,\n",
        "        color='lime',\n",
        "        alpha=0.7,\n",
        "        label='ad')\n",
        "\n",
        "plt.bar(x + width/2,\n",
        "        psa_hour_data['converted'],\n",
        "        width,\n",
        "        color='salmon',\n",
        "        alpha=0.7,\n",
        "        label='psa')\n",
        "\n",
        "# Оформление\n",
        "plt.title('Сравнение конверсии по часам', fontsize=16, pad=20)\n",
        "plt.xlabel('Час дня', fontsize=14)\n",
        "plt.ylabel('Конверсия', fontsize=14)\n",
        "plt.xticks(x, range(24))\n",
        "plt.yticks(fontsize=12)\n",
        "plt.legend(fontsize=12, framealpha=0.9)\n",
        "plt.grid(axis='y', linestyle=':', alpha=0.4)\n",
        "\n",
        "plt.tight_layout()\n",
        "plt.show()"
      ],
      "metadata": {
        "colab": {
          "base_uri": "https://localhost:8080/",
          "height": 168
        },
        "id": "3AbbOPKjP0Ul",
        "outputId": "0c81ecb1-0a23-4948-dac8-d8dbaba10e89"
      },
      "execution_count": null,
      "outputs": [
        {
          "output_type": "display_data",
          "data": {
            "text/plain": [
              "<Figure size 1400x700 with 1 Axes>"
            ],
            "image/png": "[encoded data removed]"
          },
          "metadata": {}
        }
      ]
    },
    {
      "cell_type": "markdown",
      "source": [
        "Для первой группы ('ad') зависимость схожа с общей. Во второй - зависимость от времени суток выражена ещё более ярко (в первом половине дня значение корреляции для некоторых часов и вовсе нулевое)."
      ],
      "metadata": {
        "id": "KNQA9wf1Q3Xh"
      }
    },
    {
      "cell_type": "markdown",
      "source": [
        "##Анализ зависимости решения о покупке от числа объявлений"
      ],
      "metadata": {
        "id": "Ne6E5wEcIpsY"
      }
    },
    {
      "cell_type": "markdown",
      "source": [
        "Посмотрим на зависимость для группы 'ad'"
      ],
      "metadata": {
        "id": "V70dLwFnawZY"
      }
    },
    {
      "cell_type": "code",
      "source": [
        "plt.figure(figsize=(10, 5))\n",
        "plt.scatter(ad_group['converted'], ad_group['total ads'], alpha=0.4, color='blue')\n",
        "plt.title('Группа ad: Зависимость покупок от числа объявлений')\n",
        "plt.xticks([0, 1], ['Нет покупки', 'Есть покупка'])\n",
        "plt.legend()\n",
        "plt.show()"
      ],
      "metadata": {
        "colab": {
          "base_uri": "https://localhost:8080/",
          "height": 525
        },
        "id": "oj3BgomtmqMO",
        "outputId": "eb918ecd-aea2-4071-bf06-560a5474cd38"
      },
      "execution_count": null,
      "outputs": [
        {
          "output_type": "stream",
          "name": "stderr",
          "text": [
            "<ipython-input-88-82b61f31158f>:5: UserWarning: No artists with labels found to put in legend.  Note that artists whose label start with an underscore are ignored when legend() is called with no argument.\n",
            "  plt.legend()\n"
          ]
        },
        {
          "output_type": "display_data",
          "data": {
            "text/plain": [
              "<Figure size 1000x500 with 1 Axes>"
            ],
            "image/png": "[encoded data removed]"
          },
          "metadata": {}
        }
      ]
    },
    {
      "cell_type": "markdown",
      "source": [
        "И для группы 'psa'"
      ],
      "metadata": {
        "id": "3Yxs68ponUXz"
      }
    },
    {
      "cell_type": "code",
      "source": [
        "plt.figure(figsize=(10, 5))\n",
        "plt.scatter(psa_group['converted'], psa_group['total ads'], alpha=0.4, color='orange')\n",
        "plt.title('Группа psa: Зависимость покупок от числа объявлений')\n",
        "plt.xticks([0, 1], ['Нет покупки', 'Есть покупка'])\n",
        "plt.legend()\n",
        "plt.show()"
      ],
      "metadata": {
        "colab": {
          "base_uri": "https://localhost:8080/",
          "height": 525
        },
        "id": "-s6iPIzQnTib",
        "outputId": "97a50272-3bcb-42d0-accc-5c0c08e17389"
      },
      "execution_count": null,
      "outputs": [
        {
          "output_type": "stream",
          "name": "stderr",
          "text": [
            "<ipython-input-89-458b8115c873>:5: UserWarning: No artists with labels found to put in legend.  Note that artists whose label start with an underscore are ignored when legend() is called with no argument.\n",
            "  plt.legend()\n"
          ]
        },
        {
          "output_type": "display_data",
          "data": {
            "text/plain": [
              "<Figure size 1000x500 with 1 Axes>"
            ],
            "image/png": "[encoded data removed]"
          },
          "metadata": {}
        }
      ]
    },
    {
      "cell_type": "markdown",
      "source": [
        "Сформулируем статистические гипотезы:\n",
        "\n",
        "**Нулевая гипотеза:** Конверсия пользователей, увидевших более N объявлений, равна общей конверсии группы\n",
        "\n",
        "**Альтернативная гипотеза:** Конверсия пользователей, увидевших более N объявлений, отличается от общей конверсии группы\n",
        "\n",
        "N возьмём равным 400 для первой группы, 150 - для второй"
      ],
      "metadata": {
        "id": "c4dZ2VMsngRv"
      }
    },
    {
      "cell_type": "markdown",
      "source": [
        "Проведём анализ с помощью z-теста для сравнения пропорций\n"
      ],
      "metadata": {
        "id": "5UxcAhsnotLW"
      }
    },
    {
      "cell_type": "code",
      "source": [
        "def analyze_group(group, group_name, threshold):\n",
        "    high_ads = group[group['total ads'] > threshold]\n",
        "\n",
        "    conv_rate = high_ads['converted'].mean()\n",
        "    total_conv = group['converted'].mean()\n",
        "\n",
        "    count = high_ads['converted'].sum()\n",
        "    nobs = len(high_ads)\n",
        "    z_stat, p_value = proportions_ztest(count, nobs, total_conv)\n",
        "\n",
        "    print(f'''{group_name} (порог {threshold}):\n",
        "    Конверсия при более {threshold} объявлений - {conv_rate}, общая - {total_conv}\n",
        "    p-value: {p_value} {'(значимо)' if p_value < 0.05 else '(незначимо)'}\n",
        "    Размер выборки: {len(high_ads)}/{len(group)} ({len(high_ads)/len(group)})\n",
        "    ''')\n",
        "\n",
        "# Анализ с индивидуальными порогами\n",
        "analyze_group(ad_group, 'Группа ad', 400)\n",
        "analyze_group(psa_group, 'Группа psa', 150)"
      ],
      "metadata": {
        "colab": {
          "base_uri": "https://localhost:8080/"
        },
        "id": "Jnc_h0swoabA",
        "outputId": "afffc321-8708-4859-bc6c-5c84e5c4b324"
      },
      "execution_count": null,
      "outputs": [
        {
          "output_type": "stream",
          "name": "stdout",
          "text": [
            "Группа ad (порог 400):\n",
            "    Конверсия при более 400 объявлений - 0.15985130111524162, общая - 0.025546559636683747\n",
            "    p-value: 2.737092679770445e-33 (значимо)\n",
            "    Размер выборки: 1076/564577 (0.0019058516375977058)\n",
            "    \n",
            "Группа psa (порог 150):\n",
            "    Конверсия при более 150 объявлений - 0.1320754716981132, общая - 0.01785410644448223\n",
            "    p-value: 1.7309987869474394e-13 (значимо)\n",
            "    Размер выборки: 477/23524 (0.02027716374766196)\n",
            "    \n"
          ]
        }
      ]
    },
    {
      "cell_type": "markdown",
      "source": [
        "**Вывод:** Можем смело отклонять нулевую гипотезу. Чем больше объявлений увидел пользователь, тем скорее он согласится на покупку (ведь конверсия в выводе выше увеличилась)"
      ],
      "metadata": {
        "id": "fpLSjUssucJk"
      }
    },
    {
      "cell_type": "markdown",
      "source": [
        "##Заключение"
      ],
      "metadata": {
        "id": "l4AGabFdwniP"
      }
    },
    {
      "cell_type": "markdown",
      "source": [
        "Анализ данных выявил существенные различия в эффективности между группами: таргетированная рекламная кампания (ad) показала более высокую конверсию по сравнению с публичными объявлениями (psa). Также были обнаружены значимые временные паттерны пользовательской активности, указывающие на пиковую вовлеченность в понедельник и во второй половине дня. Увеличение количества показов объявлений (как в ad, так и в psa) коррелирует с повышением конверсии.\n",
        "\n",
        "Результаты анализа предоставляют ценную информацию для оптимизации. Сосредоточение на рекламных объявлениях, таргетирование по времени и увеличение количества показов - это ключевые факторы для повышения конверсии."
      ],
      "metadata": {
        "id": "WQYlk6efwp9-"
      }
    }
  ]
}